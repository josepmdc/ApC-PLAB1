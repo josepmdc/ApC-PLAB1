{
 "cells": [
  {
   "cell_type": "markdown",
   "metadata": {},
   "source": [
    "## GPA205-0930: Beer Consumption - São Paulo\n",
    "\n",
    "**Martin Kaplan**\n",
    "\n",
    "**Josep Maria Domingo Catafal**\n",
    "\n",
    "# Apartat (C): Analitzant Dades\n",
    "El primer de tot que hem de fer és analitzar la base de dades. Per fer-ho ens ajudarem d'una sèrie de llibreries que ens permeten carregar i visualitzar les dades."
   ]
  },
  {
   "cell_type": "code",
   "execution_count": 35,
   "metadata": {
    "id": "6RaChNjzKVvR"
   },
   "outputs": [],
   "source": [
    "import scipy.stats\n",
    "import numpy as np\n",
    "import pandas as pd\n",
    "import seaborn as sns\n",
    "\n",
    "from matplotlib import pyplot as plt\n",
    "from sklearn.datasets import make_regression\n",
    "from sklearn.metrics import mean_squared_error\n",
    "from sklearn.linear_model import LinearRegression\n",
    "\n",
    "pd.set_option('display.float_format', lambda x: '%.3f' % x)"
   ]
  },
  {
   "cell_type": "markdown",
   "metadata": {},
   "source": [
    "Un cop importades les llibreries podem llegir el dataset i utilitzant la funció 'dropna()' eliminem els valors nuls i NaN. Després, guardem les dades del DataFrame en una variable a part, per així poder-les manipular de forma més fàcil."
   ]
  },
  {
   "cell_type": "code",
   "execution_count": 2,
   "metadata": {},
   "outputs": [],
   "source": [
    "dataset = pd.read_csv('dataset.csv', decimal=',').dropna()\n",
    "data = dataset.values"
   ]
  },
  {
   "cell_type": "markdown",
   "metadata": {},
   "source": [
    "Utilitzant les funcions 'head()' i 'tail()' podem veure una mostra de les nostres dades, i agafar una idea del que contenen i veure si estan ordenades d'una manera en concret."
   ]
  },
  {
   "cell_type": "code",
   "execution_count": 3,
   "metadata": {},
   "outputs": [
    {
     "data": {
      "text/html": [
       "<div>\n",
       "<style scoped>\n",
       "    .dataframe tbody tr th:only-of-type {\n",
       "        vertical-align: middle;\n",
       "    }\n",
       "\n",
       "    .dataframe tbody tr th {\n",
       "        vertical-align: top;\n",
       "    }\n",
       "\n",
       "    .dataframe thead th {\n",
       "        text-align: right;\n",
       "    }\n",
       "</style>\n",
       "<table border=\"1\" class=\"dataframe\">\n",
       "  <thead>\n",
       "    <tr style=\"text-align: right;\">\n",
       "      <th></th>\n",
       "      <th>Data</th>\n",
       "      <th>Temperatura Media (C)</th>\n",
       "      <th>Temperatura Minima (C)</th>\n",
       "      <th>Temperatura Maxima (C)</th>\n",
       "      <th>Precipitacao (mm)</th>\n",
       "      <th>Final de Semana</th>\n",
       "      <th>Consumo de cerveja (litros)</th>\n",
       "    </tr>\n",
       "  </thead>\n",
       "  <tbody>\n",
       "    <tr>\n",
       "      <th>0</th>\n",
       "      <td>2015-01-01</td>\n",
       "      <td>27.300</td>\n",
       "      <td>23.900</td>\n",
       "      <td>32.500</td>\n",
       "      <td>0.000</td>\n",
       "      <td>0.000</td>\n",
       "      <td>25.461</td>\n",
       "    </tr>\n",
       "    <tr>\n",
       "      <th>1</th>\n",
       "      <td>2015-01-02</td>\n",
       "      <td>27.020</td>\n",
       "      <td>24.500</td>\n",
       "      <td>33.500</td>\n",
       "      <td>0.000</td>\n",
       "      <td>0.000</td>\n",
       "      <td>28.972</td>\n",
       "    </tr>\n",
       "    <tr>\n",
       "      <th>2</th>\n",
       "      <td>2015-01-03</td>\n",
       "      <td>24.820</td>\n",
       "      <td>22.400</td>\n",
       "      <td>29.900</td>\n",
       "      <td>0.000</td>\n",
       "      <td>1.000</td>\n",
       "      <td>30.814</td>\n",
       "    </tr>\n",
       "    <tr>\n",
       "      <th>3</th>\n",
       "      <td>2015-01-04</td>\n",
       "      <td>23.980</td>\n",
       "      <td>21.500</td>\n",
       "      <td>28.600</td>\n",
       "      <td>1.200</td>\n",
       "      <td>1.000</td>\n",
       "      <td>29.799</td>\n",
       "    </tr>\n",
       "    <tr>\n",
       "      <th>4</th>\n",
       "      <td>2015-01-05</td>\n",
       "      <td>23.820</td>\n",
       "      <td>21.000</td>\n",
       "      <td>28.300</td>\n",
       "      <td>0.000</td>\n",
       "      <td>0.000</td>\n",
       "      <td>28.900</td>\n",
       "    </tr>\n",
       "  </tbody>\n",
       "</table>\n",
       "</div>"
      ],
      "text/plain": [
       "         Data  Temperatura Media (C)  Temperatura Minima (C)  \\\n",
       "0  2015-01-01                 27.300                  23.900   \n",
       "1  2015-01-02                 27.020                  24.500   \n",
       "2  2015-01-03                 24.820                  22.400   \n",
       "3  2015-01-04                 23.980                  21.500   \n",
       "4  2015-01-05                 23.820                  21.000   \n",
       "\n",
       "   Temperatura Maxima (C)  Precipitacao (mm)  Final de Semana  \\\n",
       "0                  32.500              0.000            0.000   \n",
       "1                  33.500              0.000            0.000   \n",
       "2                  29.900              0.000            1.000   \n",
       "3                  28.600              1.200            1.000   \n",
       "4                  28.300              0.000            0.000   \n",
       "\n",
       "  Consumo de cerveja (litros)  \n",
       "0                      25.461  \n",
       "1                      28.972  \n",
       "2                      30.814  \n",
       "3                      29.799  \n",
       "4                      28.900  "
      ]
     },
     "execution_count": 3,
     "metadata": {},
     "output_type": "execute_result"
    }
   ],
   "source": [
    "dataset.head()"
   ]
  },
  {
   "cell_type": "code",
   "execution_count": 4,
   "metadata": {},
   "outputs": [
    {
     "data": {
      "text/html": [
       "<div>\n",
       "<style scoped>\n",
       "    .dataframe tbody tr th:only-of-type {\n",
       "        vertical-align: middle;\n",
       "    }\n",
       "\n",
       "    .dataframe tbody tr th {\n",
       "        vertical-align: top;\n",
       "    }\n",
       "\n",
       "    .dataframe thead th {\n",
       "        text-align: right;\n",
       "    }\n",
       "</style>\n",
       "<table border=\"1\" class=\"dataframe\">\n",
       "  <thead>\n",
       "    <tr style=\"text-align: right;\">\n",
       "      <th></th>\n",
       "      <th>Data</th>\n",
       "      <th>Temperatura Media (C)</th>\n",
       "      <th>Temperatura Minima (C)</th>\n",
       "      <th>Temperatura Maxima (C)</th>\n",
       "      <th>Precipitacao (mm)</th>\n",
       "      <th>Final de Semana</th>\n",
       "      <th>Consumo de cerveja (litros)</th>\n",
       "    </tr>\n",
       "  </thead>\n",
       "  <tbody>\n",
       "    <tr>\n",
       "      <th>360</th>\n",
       "      <td>2015-12-27</td>\n",
       "      <td>24.000</td>\n",
       "      <td>21.100</td>\n",
       "      <td>28.200</td>\n",
       "      <td>13.600</td>\n",
       "      <td>1.000</td>\n",
       "      <td>32.307</td>\n",
       "    </tr>\n",
       "    <tr>\n",
       "      <th>361</th>\n",
       "      <td>2015-12-28</td>\n",
       "      <td>22.640</td>\n",
       "      <td>21.100</td>\n",
       "      <td>26.700</td>\n",
       "      <td>0.000</td>\n",
       "      <td>0.000</td>\n",
       "      <td>26.095</td>\n",
       "    </tr>\n",
       "    <tr>\n",
       "      <th>362</th>\n",
       "      <td>2015-12-29</td>\n",
       "      <td>21.680</td>\n",
       "      <td>20.300</td>\n",
       "      <td>24.100</td>\n",
       "      <td>10.300</td>\n",
       "      <td>0.000</td>\n",
       "      <td>22.309</td>\n",
       "    </tr>\n",
       "    <tr>\n",
       "      <th>363</th>\n",
       "      <td>2015-12-30</td>\n",
       "      <td>21.380</td>\n",
       "      <td>19.300</td>\n",
       "      <td>22.400</td>\n",
       "      <td>6.300</td>\n",
       "      <td>0.000</td>\n",
       "      <td>20.467</td>\n",
       "    </tr>\n",
       "    <tr>\n",
       "      <th>364</th>\n",
       "      <td>2015-12-31</td>\n",
       "      <td>24.760</td>\n",
       "      <td>20.200</td>\n",
       "      <td>29.000</td>\n",
       "      <td>0.000</td>\n",
       "      <td>0.000</td>\n",
       "      <td>22.446</td>\n",
       "    </tr>\n",
       "  </tbody>\n",
       "</table>\n",
       "</div>"
      ],
      "text/plain": [
       "           Data  Temperatura Media (C)  Temperatura Minima (C)  \\\n",
       "360  2015-12-27                 24.000                  21.100   \n",
       "361  2015-12-28                 22.640                  21.100   \n",
       "362  2015-12-29                 21.680                  20.300   \n",
       "363  2015-12-30                 21.380                  19.300   \n",
       "364  2015-12-31                 24.760                  20.200   \n",
       "\n",
       "     Temperatura Maxima (C)  Precipitacao (mm)  Final de Semana  \\\n",
       "360                  28.200             13.600            1.000   \n",
       "361                  26.700              0.000            0.000   \n",
       "362                  24.100             10.300            0.000   \n",
       "363                  22.400              6.300            0.000   \n",
       "364                  29.000              0.000            0.000   \n",
       "\n",
       "    Consumo de cerveja (litros)  \n",
       "360                      32.307  \n",
       "361                      26.095  \n",
       "362                      22.309  \n",
       "363                      20.467  \n",
       "364                      22.446  "
      ]
     },
     "execution_count": 4,
     "metadata": {},
     "output_type": "execute_result"
    }
   ],
   "source": [
    "dataset.tail()"
   ]
  },
  {
   "cell_type": "markdown",
   "metadata": {},
   "source": [
    "Observant aquesta informació podem concloure que les columnes tenen el següent significat:\n",
    "- **Data**: Data en la qual es va registrar l'entrada.\n",
    "- **Temperatura Media**: Temperatura mitjana del dia en el qual es va registrar l'entrada (en Celsius).\n",
    "- **Temperatura Mínima**: Temperatura mínima del dia en el qual es va registrar l'entrada (en Celsius).\n",
    "- **Temperatura Màxima**: Temperatura màxima del dia en el qual es va registrar l'entrada (en Celsius).\n",
    "- **Precipitacao**: Mil·límetres de precipitació registrats el dia en el qual es va registrar l'entrada.\n",
    "- **Final de Semana**: Un 0 indica que no es entre setmana, un 1 que és cap de setmana.\n",
    "- **Consumo de cerveja**: Litres de cervesa consumits en el dia en el qual es va registrar l'entrada."
   ]
  },
  {
   "cell_type": "markdown",
   "metadata": {},
   "source": [
    "Per facilitarnos la vida, traduirem els noms de les columnes a l'anglès i amb '_' en comptes d'espais"
   ]
  },
  {
   "cell_type": "code",
   "execution_count": 5,
   "metadata": {},
   "outputs": [],
   "source": [
    "dataset.columns = ['date', 'avg_temp', 'min_temp', 'max_temp', 'precipitation', 'weekend', 'consumption_liters']"
   ]
  },
  {
   "cell_type": "markdown",
   "metadata": {},
   "source": [
    "Hi ha un petit problema amb les dades, i és que el separador decimal es una coma en totes les columnes menys en la del consum de cervesa. Per resoldre aquesta inconsistencia, el que fem és, al llegir el csv em especificat que el separador decimal es la coma, i ara només ens falta convertir la columna del consum de cervesa a float."
   ]
  },
  {
   "cell_type": "code",
   "execution_count": 6,
   "metadata": {},
   "outputs": [],
   "source": [
    "dataset['consumption_liters'] = pd.to_numeric(dataset['consumption_liters'])"
   ]
  },
  {
   "cell_type": "markdown",
   "metadata": {},
   "source": [
    "Una altra cosa que ens pot resultar d'utilitat és calcular les estadístiques dels atributs numèrics del dataset."
   ]
  },
  {
   "cell_type": "code",
   "execution_count": 7,
   "metadata": {},
   "outputs": [
    {
     "data": {
      "text/html": [
       "<div>\n",
       "<style scoped>\n",
       "    .dataframe tbody tr th:only-of-type {\n",
       "        vertical-align: middle;\n",
       "    }\n",
       "\n",
       "    .dataframe tbody tr th {\n",
       "        vertical-align: top;\n",
       "    }\n",
       "\n",
       "    .dataframe thead th {\n",
       "        text-align: right;\n",
       "    }\n",
       "</style>\n",
       "<table border=\"1\" class=\"dataframe\">\n",
       "  <thead>\n",
       "    <tr style=\"text-align: right;\">\n",
       "      <th></th>\n",
       "      <th>avg_temp</th>\n",
       "      <th>min_temp</th>\n",
       "      <th>max_temp</th>\n",
       "      <th>precipitation</th>\n",
       "      <th>weekend</th>\n",
       "      <th>consumption_liters</th>\n",
       "    </tr>\n",
       "  </thead>\n",
       "  <tbody>\n",
       "    <tr>\n",
       "      <th>count</th>\n",
       "      <td>365.000</td>\n",
       "      <td>365.000</td>\n",
       "      <td>365.000</td>\n",
       "      <td>365.000</td>\n",
       "      <td>365.000</td>\n",
       "      <td>365.000</td>\n",
       "    </tr>\n",
       "    <tr>\n",
       "      <th>mean</th>\n",
       "      <td>21.226</td>\n",
       "      <td>17.461</td>\n",
       "      <td>26.612</td>\n",
       "      <td>5.197</td>\n",
       "      <td>0.285</td>\n",
       "      <td>25.401</td>\n",
       "    </tr>\n",
       "    <tr>\n",
       "      <th>std</th>\n",
       "      <td>3.180</td>\n",
       "      <td>2.826</td>\n",
       "      <td>4.317</td>\n",
       "      <td>12.418</td>\n",
       "      <td>0.452</td>\n",
       "      <td>4.399</td>\n",
       "    </tr>\n",
       "    <tr>\n",
       "      <th>min</th>\n",
       "      <td>12.900</td>\n",
       "      <td>10.600</td>\n",
       "      <td>14.500</td>\n",
       "      <td>0.000</td>\n",
       "      <td>0.000</td>\n",
       "      <td>14.343</td>\n",
       "    </tr>\n",
       "    <tr>\n",
       "      <th>25%</th>\n",
       "      <td>19.020</td>\n",
       "      <td>15.300</td>\n",
       "      <td>23.800</td>\n",
       "      <td>0.000</td>\n",
       "      <td>0.000</td>\n",
       "      <td>22.008</td>\n",
       "    </tr>\n",
       "    <tr>\n",
       "      <th>50%</th>\n",
       "      <td>21.380</td>\n",
       "      <td>17.900</td>\n",
       "      <td>26.900</td>\n",
       "      <td>0.000</td>\n",
       "      <td>0.000</td>\n",
       "      <td>24.867</td>\n",
       "    </tr>\n",
       "    <tr>\n",
       "      <th>75%</th>\n",
       "      <td>23.280</td>\n",
       "      <td>19.600</td>\n",
       "      <td>29.400</td>\n",
       "      <td>3.200</td>\n",
       "      <td>1.000</td>\n",
       "      <td>28.631</td>\n",
       "    </tr>\n",
       "    <tr>\n",
       "      <th>max</th>\n",
       "      <td>28.860</td>\n",
       "      <td>24.500</td>\n",
       "      <td>36.500</td>\n",
       "      <td>94.800</td>\n",
       "      <td>1.000</td>\n",
       "      <td>37.937</td>\n",
       "    </tr>\n",
       "  </tbody>\n",
       "</table>\n",
       "</div>"
      ],
      "text/plain": [
       "       avg_temp  min_temp  max_temp  precipitation  weekend  \\\n",
       "count   365.000   365.000   365.000        365.000  365.000   \n",
       "mean     21.226    17.461    26.612          5.197    0.285   \n",
       "std       3.180     2.826     4.317         12.418    0.452   \n",
       "min      12.900    10.600    14.500          0.000    0.000   \n",
       "25%      19.020    15.300    23.800          0.000    0.000   \n",
       "50%      21.380    17.900    26.900          0.000    0.000   \n",
       "75%      23.280    19.600    29.400          3.200    1.000   \n",
       "max      28.860    24.500    36.500         94.800    1.000   \n",
       "\n",
       "       consumption_liters  \n",
       "count             365.000  \n",
       "mean               25.401  \n",
       "std                 4.399  \n",
       "min                14.343  \n",
       "25%                22.008  \n",
       "50%                24.867  \n",
       "75%                28.631  \n",
       "max                37.937  "
      ]
     },
     "execution_count": 7,
     "metadata": {},
     "output_type": "execute_result"
    }
   ],
   "source": [
    "dataset.describe()"
   ]
  },
  {
   "cell_type": "markdown",
   "metadata": {},
   "source": [
    "Un cop tenim una idea de com estan estructurades les dades i del que representen podem decidir quin serà l'atribut objectiu. Ens hem decantat pel consum de cervesa en litres, ja que conté una bona variabilitat de les dades i és la de més interès respecte a la correlació de les dades, ja que no tindria massa sentit, per exemple, intentar preveure la temperatura en funció de la cervesa que veu la gent. És més aviat al contrari, volem veure la predisposició que té la gent a beure cervesa en funció de la temperatura.\n",
    "Un cop escollit l'atribut objectiu, el següent pas és representar les dades gràficament per entendre millor com es relacionen entre elles i comprendre-les numèricament de manera que ens puguin donar una noció de per on encaminar-nos."
   ]
  },
  {
   "cell_type": "code",
   "execution_count": 8,
   "metadata": {},
   "outputs": [
    {
     "data": {
      "image/png": "[encoded data removed]",
      "text/plain": [
       "<Figure size 720x504 with 2 Axes>"
      ]
     },
     "metadata": {
      "needs_background": "light"
     },
     "output_type": "display_data"
    }
   ],
   "source": [
    "plt.figure(figsize = (10, 7))\n",
    "ax = sns.heatmap(dataset.corr(), annot=True, linewidths=.5)"
   ]
  },
  {
   "cell_type": "markdown",
   "metadata": {},
   "source": [
    "Podem veure que sembla que hi hagi una correlació entre la temperatura mitjana i la temperatura màxima i la consumició de cervesa.\n",
    "Una altra correlació que ens pot resultar interessant és la del consum de cervesa i cap de setmana. El problema que tenim és que hi ha molts més dies laborals que de cap de setmana i per tant obtenim un nombre major de consum de cervesa en dies laborals, tot i que proporcionalment no és cert, com veurem més endavant.\n",
    "\n",
    "En la següent gràfica podem observar la gran diferència entre els litres de cervesa consumits en dies laborals i en cap de setmana."
   ]
  },
  {
   "cell_type": "code",
   "execution_count": 9,
   "metadata": {
    "scrolled": false
   },
   "outputs": [
    {
     "data": {
      "image/png": "[encoded data removed]",
      "text/plain": [
       "<Figure size 432x288 with 1 Axes>"
      ]
     },
     "metadata": {
      "needs_background": "light"
     },
     "output_type": "display_data"
    }
   ],
   "source": [
    "weekends_liters = sum(dataset[dataset.weekend == 1]['consumption_liters'])\n",
    "weekdays_liters = sum(dataset[dataset.weekend == 0]['consumption_liters'])\n",
    "\n",
    "fig = plt.figure()\n",
    "labels = [\"Caps de setmana\", \"Dies laborals\"]\n",
    "\n",
    "ax = fig.add_axes([0,0,1,1])\n",
    "ax.bar(labels, [weekends_liters, weekdays_liters], color=[\"r\", \"b\"])\n",
    "\n",
    "plt.title(\"Diferència en el consum de cervesa en dies laborals i cap de setmana\", figure=fig)\n",
    "plt.ylabel(\"Litres\", figure=fig)\n",
    "\n",
    "plt.show()"
   ]
  },
  {
   "cell_type": "code",
   "execution_count": 10,
   "metadata": {},
   "outputs": [
    {
     "data": {
      "image/png": "[encoded data removed]",
      "text/plain": [
       "<Figure size 432x288 with 1 Axes>"
      ]
     },
     "metadata": {
      "needs_background": "light"
     },
     "output_type": "display_data"
    }
   ],
   "source": [
    "weekends_liters = len(dataset[dataset.weekend == 1])\n",
    "weekdays_liters = len(dataset[dataset.weekend == 0])\n",
    "\n",
    "fig = plt.figure()\n",
    "labels = [\"Caps de setmana\", \"Dies laborals\"]\n",
    "\n",
    "ax = fig.add_axes([0,0,1,1])\n",
    "ax.bar(labels, [weekends_liters, weekdays_liters], color=[\"r\", \"b\"])\n",
    "\n",
    "plt.title(\"Diferència en la quantitat de dies laborals i de cap de setmana\", figure=fig)\n",
    "plt.ylabel(\"Dies\", figure=fig)\n",
    "\n",
    "plt.show()"
   ]
  },
  {
   "cell_type": "markdown",
   "metadata": {},
   "source": [
    "Per solucionar aquest problema, el que podem fer és mirar el consum individualment en cada dia de la setmana. Per poder-ho fer, primer hem de convertir l'atribut date de string a DateTime, per així poder extreure'n el dia de la setmana."
   ]
  },
  {
   "cell_type": "code",
   "execution_count": 11,
   "metadata": {},
   "outputs": [],
   "source": [
    "dataset['date'] = pd.to_datetime(dataset['date'])"
   ]
  },
  {
   "cell_type": "markdown",
   "metadata": {},
   "source": [
    "Un cop fet això creem l'atribut del dia de la setmana. Ja que hi estem posats, també creem un camp mes, que ens pot resultar d'utilitat més endevant."
   ]
  },
  {
   "cell_type": "code",
   "execution_count": 12,
   "metadata": {
    "scrolled": true
   },
   "outputs": [
    {
     "data": {
      "text/html": [
       "<div>\n",
       "<style scoped>\n",
       "    .dataframe tbody tr th:only-of-type {\n",
       "        vertical-align: middle;\n",
       "    }\n",
       "\n",
       "    .dataframe tbody tr th {\n",
       "        vertical-align: top;\n",
       "    }\n",
       "\n",
       "    .dataframe thead th {\n",
       "        text-align: right;\n",
       "    }\n",
       "</style>\n",
       "<table border=\"1\" class=\"dataframe\">\n",
       "  <thead>\n",
       "    <tr style=\"text-align: right;\">\n",
       "      <th></th>\n",
       "      <th>date</th>\n",
       "      <th>avg_temp</th>\n",
       "      <th>min_temp</th>\n",
       "      <th>max_temp</th>\n",
       "      <th>precipitation</th>\n",
       "      <th>weekend</th>\n",
       "      <th>consumption_liters</th>\n",
       "      <th>month</th>\n",
       "      <th>day</th>\n",
       "    </tr>\n",
       "  </thead>\n",
       "  <tbody>\n",
       "    <tr>\n",
       "      <th>0</th>\n",
       "      <td>2015-01-01</td>\n",
       "      <td>27.300</td>\n",
       "      <td>23.900</td>\n",
       "      <td>32.500</td>\n",
       "      <td>0.000</td>\n",
       "      <td>0.000</td>\n",
       "      <td>25.461</td>\n",
       "      <td>January</td>\n",
       "      <td>Thursday</td>\n",
       "    </tr>\n",
       "    <tr>\n",
       "      <th>1</th>\n",
       "      <td>2015-01-02</td>\n",
       "      <td>27.020</td>\n",
       "      <td>24.500</td>\n",
       "      <td>33.500</td>\n",
       "      <td>0.000</td>\n",
       "      <td>0.000</td>\n",
       "      <td>28.972</td>\n",
       "      <td>January</td>\n",
       "      <td>Friday</td>\n",
       "    </tr>\n",
       "    <tr>\n",
       "      <th>2</th>\n",
       "      <td>2015-01-03</td>\n",
       "      <td>24.820</td>\n",
       "      <td>22.400</td>\n",
       "      <td>29.900</td>\n",
       "      <td>0.000</td>\n",
       "      <td>1.000</td>\n",
       "      <td>30.814</td>\n",
       "      <td>January</td>\n",
       "      <td>Saturday</td>\n",
       "    </tr>\n",
       "    <tr>\n",
       "      <th>3</th>\n",
       "      <td>2015-01-04</td>\n",
       "      <td>23.980</td>\n",
       "      <td>21.500</td>\n",
       "      <td>28.600</td>\n",
       "      <td>1.200</td>\n",
       "      <td>1.000</td>\n",
       "      <td>29.799</td>\n",
       "      <td>January</td>\n",
       "      <td>Sunday</td>\n",
       "    </tr>\n",
       "    <tr>\n",
       "      <th>4</th>\n",
       "      <td>2015-01-05</td>\n",
       "      <td>23.820</td>\n",
       "      <td>21.000</td>\n",
       "      <td>28.300</td>\n",
       "      <td>0.000</td>\n",
       "      <td>0.000</td>\n",
       "      <td>28.900</td>\n",
       "      <td>January</td>\n",
       "      <td>Monday</td>\n",
       "    </tr>\n",
       "  </tbody>\n",
       "</table>\n",
       "</div>"
      ],
      "text/plain": [
       "        date  avg_temp  min_temp  max_temp  precipitation  weekend  \\\n",
       "0 2015-01-01    27.300    23.900    32.500          0.000    0.000   \n",
       "1 2015-01-02    27.020    24.500    33.500          0.000    0.000   \n",
       "2 2015-01-03    24.820    22.400    29.900          0.000    1.000   \n",
       "3 2015-01-04    23.980    21.500    28.600          1.200    1.000   \n",
       "4 2015-01-05    23.820    21.000    28.300          0.000    0.000   \n",
       "\n",
       "   consumption_liters    month       day  \n",
       "0              25.461  January  Thursday  \n",
       "1              28.972  January    Friday  \n",
       "2              30.814  January  Saturday  \n",
       "3              29.799  January    Sunday  \n",
       "4              28.900  January    Monday  "
      ]
     },
     "execution_count": 12,
     "metadata": {},
     "output_type": "execute_result"
    }
   ],
   "source": [
    "dataset['month'] = dataset['date'].apply(lambda x: x.strftime('%B'))\n",
    "dataset['day'] = dataset['date'].apply(lambda x: x.strftime('%A'))\n",
    "dataset.head()"
   ]
  },
  {
   "cell_type": "code",
   "execution_count": 13,
   "metadata": {},
   "outputs": [
    {
     "data": {
      "image/png": "[encoded data removed]",
      "text/plain": [
       "<Figure size 1080x360 with 1 Axes>"
      ]
     },
     "metadata": {
      "needs_background": "light"
     },
     "output_type": "display_data"
    }
   ],
   "source": [
    "plt.figure(figsize=(15, 5))\n",
    "plt.title(\"Beer consumption by months\")\n",
    "ax = sns.boxplot(data=dataset, x = \"day\", y = \"consumption_liters\")\n",
    "plt.show()"
   ]
  },
  {
   "cell_type": "markdown",
   "metadata": {},
   "source": [
    "Com podem observar que, com ja havíem suposat, el punt de vista des d'on estàvem observant les dades ens estava mentint. Els dies del cap de setmana hi ha un increment en els litres de cervesa consumits, però no s'estava reflectint en les dades, ja que hi ha més dies laborals que de cap de setmana.\n",
    "\n",
    "Ara podem comprovar, utilitzant el mateix mètode, si hi ha una relació entre els litres de cervesa i el mes de l'any."
   ]
  },
  {
   "cell_type": "code",
   "execution_count": 14,
   "metadata": {},
   "outputs": [
    {
     "data": {
      "image/png": "[encoded data removed]",
      "text/plain": [
       "<Figure size 1080x360 with 1 Axes>"
      ]
     },
     "metadata": {
      "needs_background": "light"
     },
     "output_type": "display_data"
    }
   ],
   "source": [
    "plt.figure(figsize=(15, 5))\n",
    "plt.title(\"Beer consumption by months\")\n",
    "ax = sns.boxplot(data=dataset, x = \"month\", y = \"consumption_liters\")\n",
    "plt.show()"
   ]
  },
  {
   "cell_type": "markdown",
   "metadata": {},
   "source": [
    "Podem veure que, tal com hem vist anteriorment en el heatmap, hi ha una correlació positiva entre els mesos on fa més calor i el consum de cervesa, és a dir en els mesos més calorosos es consumeix més cervesa. Cal tenir en compte que les dades són del Brasil, que és a l'hemisferi sud, i per tant fa calor en els mesos quan fa fred a l'hemisferi nord."
   ]
  },
  {
   "cell_type": "markdown",
   "metadata": {},
   "source": [
    "I que en podem dir de la pluja? Afecta el consum de cervesa? Si observem el heatmap que hem generat anteriorment veiem que hi ha una correlació de -0,19 entre el consum de cervesa i la precipitació acumulada. Això vol dir que el fet que plogui fa que la gent prengui menys cervesa, tot i que en molt petita mesura, tan petita que arriba a ser irrellevant."
   ]
  },
  {
   "cell_type": "markdown",
   "metadata": {},
   "source": [
    "**1. Quin és el tipus de cada atribut?**\n",
    "\n",
    "Tots els atributs són floats menys el de cap de setmana que és un boolea.\n",
    "\n",
    "**2. Quins atributs tenen una distribució Gaussiana?**\n",
    "\n",
    "Observant els histogrames en la diagonal del \"pair plot\", podem veure que tots els atributs menys els de precipitació i cap de setmana segueixen una distribució Gaussiana.\n",
    "\n",
    "**3. Quin és l'atribut objectiu? Per què?**\n",
    "\n",
    "L'atribut objectiu, com hem esmentat al principi serà el consum de cervesa en litres. És l'atribut objectiu, ja que és l'única de les dades que té una correlació directa amb altres atributs. Les altres relacions que podem trobar entre les dades no ens interessen perquè no tenen una relació directa (per exemple no plou perquè la gent beguí més cervesa, però poder sí que la gent veu menys cervesa quan plou)."
   ]
  },
  {
   "cell_type": "markdown",
   "metadata": {},
   "source": [
    "# Apartat (B): Primeres regressions"
   ]
  },
  {
   "cell_type": "code",
   "execution_count": 36,
   "metadata": {},
   "outputs": [],
   "source": [
    "def regression(x, y):\n",
    "    regr = LinearRegression()\n",
    "    regr.fit(x, y)\n",
    "    return regr"
   ]
  }
 ],
 "metadata": {
  "colab": {
   "authorship_tag": "ABX9TyNkMIy4/Yr67ZcDjMVeGfdN",
   "include_colab_link": true,
   "name": "PLAB1.ipynb",
   "provenance": []
  },
  "interpreter": {
   "hash": "916dbcbb3f70747c44a77c7bcd40155683ae19c65e1c03b4aa3499c5328201f1"
  },
  "kernelspec": {
   "display_name": "Python 3 (ipykernel)",
   "language": "python",
   "name": "python3"
  },
  "language_info": {
   "codemirror_mode": {
    "name": "ipython",
    "version": 3
   },
   "file_extension": ".py",
   "mimetype": "text/x-python",
   "name": "python",
   "nbconvert_exporter": "python",
   "pygments_lexer": "ipython3",
   "version": "3.9.7"
  }
 },
 "nbformat": 4,
 "nbformat_minor": 4
}
